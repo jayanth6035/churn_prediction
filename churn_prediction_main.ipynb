{
 "cells": [
  {
   "cell_type": "code",
   "execution_count": 41,
   "id": "e20dcb94",
   "metadata": {
    "ExecuteTime": {
     "end_time": "2023-08-24T20:27:48.374559Z",
     "start_time": "2023-08-24T20:27:48.285392Z"
    }
   },
   "outputs": [],
   "source": [
    "# import all necessary libraries\n",
    "import pandas as pd\n",
    "import numpy as np\n",
    "import matplotlib.pyplot as plt\n",
    "%matplotlib inline\n",
    "import seaborn as sns\n",
    "import warnings \n",
    "warnings.filterwarnings('ignore')"
   ]
  },
  {
   "cell_type": "code",
   "execution_count": 42,
   "id": "9a63436b",
   "metadata": {
    "ExecuteTime": {
     "end_time": "2023-08-24T20:28:25.542523Z",
     "start_time": "2023-08-24T20:27:48.380622Z"
    }
   },
   "outputs": [],
   "source": [
    "# read the excel file\n",
    "df = pd.read_excel(r\"C:\\Users\\priya\\Downloads\\customer_churn_large_dataset.xlsx\")"
   ]
  },
  {
   "cell_type": "code",
   "execution_count": 43,
   "id": "9d2823bc",
   "metadata": {
    "ExecuteTime": {
     "end_time": "2023-08-24T20:28:25.583359Z",
     "start_time": "2023-08-24T20:28:25.542523Z"
    }
   },
   "outputs": [
    {
     "data": {
      "text/html": [
       "<div>\n",
       "<style scoped>\n",
       "    .dataframe tbody tr th:only-of-type {\n",
       "        vertical-align: middle;\n",
       "    }\n",
       "\n",
       "    .dataframe tbody tr th {\n",
       "        vertical-align: top;\n",
       "    }\n",
       "\n",
       "    .dataframe thead th {\n",
       "        text-align: right;\n",
       "    }\n",
       "</style>\n",
       "<table border=\"1\" class=\"dataframe\">\n",
       "  <thead>\n",
       "    <tr style=\"text-align: right;\">\n",
       "      <th></th>\n",
       "      <th>CustomerID</th>\n",
       "      <th>Name</th>\n",
       "      <th>Age</th>\n",
       "      <th>Gender</th>\n",
       "      <th>Location</th>\n",
       "      <th>Subscription_Length_Months</th>\n",
       "      <th>Monthly_Bill</th>\n",
       "      <th>Total_Usage_GB</th>\n",
       "      <th>Churn</th>\n",
       "    </tr>\n",
       "  </thead>\n",
       "  <tbody>\n",
       "    <tr>\n",
       "      <th>0</th>\n",
       "      <td>1.0</td>\n",
       "      <td>Customer_1</td>\n",
       "      <td>63.0</td>\n",
       "      <td>Male</td>\n",
       "      <td>Los Angeles</td>\n",
       "      <td>17.0</td>\n",
       "      <td>73.36</td>\n",
       "      <td>236.0</td>\n",
       "      <td>0.0</td>\n",
       "    </tr>\n",
       "    <tr>\n",
       "      <th>1</th>\n",
       "      <td>2.0</td>\n",
       "      <td>Customer_2</td>\n",
       "      <td>62.0</td>\n",
       "      <td>Female</td>\n",
       "      <td>New York</td>\n",
       "      <td>1.0</td>\n",
       "      <td>48.76</td>\n",
       "      <td>172.0</td>\n",
       "      <td>0.0</td>\n",
       "    </tr>\n",
       "    <tr>\n",
       "      <th>2</th>\n",
       "      <td>3.0</td>\n",
       "      <td>Customer_3</td>\n",
       "      <td>24.0</td>\n",
       "      <td>Female</td>\n",
       "      <td>Los Angeles</td>\n",
       "      <td>5.0</td>\n",
       "      <td>85.47</td>\n",
       "      <td>460.0</td>\n",
       "      <td>0.0</td>\n",
       "    </tr>\n",
       "    <tr>\n",
       "      <th>3</th>\n",
       "      <td>4.0</td>\n",
       "      <td>Customer_4</td>\n",
       "      <td>36.0</td>\n",
       "      <td>Female</td>\n",
       "      <td>Miami</td>\n",
       "      <td>3.0</td>\n",
       "      <td>97.94</td>\n",
       "      <td>297.0</td>\n",
       "      <td>1.0</td>\n",
       "    </tr>\n",
       "    <tr>\n",
       "      <th>4</th>\n",
       "      <td>5.0</td>\n",
       "      <td>Customer_5</td>\n",
       "      <td>46.0</td>\n",
       "      <td>Female</td>\n",
       "      <td>Miami</td>\n",
       "      <td>19.0</td>\n",
       "      <td>58.14</td>\n",
       "      <td>266.0</td>\n",
       "      <td>0.0</td>\n",
       "    </tr>\n",
       "  </tbody>\n",
       "</table>\n",
       "</div>"
      ],
      "text/plain": [
       "   CustomerID        Name   Age  Gender     Location  \\\n",
       "0         1.0  Customer_1  63.0    Male  Los Angeles   \n",
       "1         2.0  Customer_2  62.0  Female     New York   \n",
       "2         3.0  Customer_3  24.0  Female  Los Angeles   \n",
       "3         4.0  Customer_4  36.0  Female        Miami   \n",
       "4         5.0  Customer_5  46.0  Female        Miami   \n",
       "\n",
       "   Subscription_Length_Months  Monthly_Bill  Total_Usage_GB  Churn  \n",
       "0                        17.0         73.36           236.0    0.0  \n",
       "1                         1.0         48.76           172.0    0.0  \n",
       "2                         5.0         85.47           460.0    0.0  \n",
       "3                         3.0         97.94           297.0    1.0  \n",
       "4                        19.0         58.14           266.0    0.0  "
      ]
     },
     "execution_count": 43,
     "metadata": {},
     "output_type": "execute_result"
    }
   ],
   "source": [
    "# first 5 rows of dataframe\n",
    "df.head()"
   ]
  },
  {
   "cell_type": "code",
   "execution_count": 44,
   "id": "8368fbeb",
   "metadata": {
    "ExecuteTime": {
     "end_time": "2023-08-24T20:28:25.672393Z",
     "start_time": "2023-08-24T20:28:25.586176Z"
    }
   },
   "outputs": [
    {
     "name": "stdout",
     "output_type": "stream",
     "text": [
      "<class 'pandas.core.frame.DataFrame'>\n",
      "RangeIndex: 100000 entries, 0 to 99999\n",
      "Data columns (total 9 columns):\n",
      " #   Column                      Non-Null Count   Dtype  \n",
      "---  ------                      --------------   -----  \n",
      " 0   CustomerID                  100000 non-null  float64\n",
      " 1   Name                        100000 non-null  object \n",
      " 2   Age                         100000 non-null  float64\n",
      " 3   Gender                      100000 non-null  object \n",
      " 4   Location                    100000 non-null  object \n",
      " 5   Subscription_Length_Months  100000 non-null  float64\n",
      " 6   Monthly_Bill                100000 non-null  float64\n",
      " 7   Total_Usage_GB              100000 non-null  float64\n",
      " 8   Churn                       100000 non-null  float64\n",
      "dtypes: float64(6), object(3)\n",
      "memory usage: 6.9+ MB\n"
     ]
    }
   ],
   "source": [
    "# information about the dataframe\n",
    "df.info()"
   ]
  },
  {
   "cell_type": "code",
   "execution_count": 45,
   "id": "ce5501ae",
   "metadata": {
    "ExecuteTime": {
     "end_time": "2023-08-24T20:28:25.760180Z",
     "start_time": "2023-08-24T20:28:25.674975Z"
    }
   },
   "outputs": [
    {
     "data": {
      "text/html": [
       "<div>\n",
       "<style scoped>\n",
       "    .dataframe tbody tr th:only-of-type {\n",
       "        vertical-align: middle;\n",
       "    }\n",
       "\n",
       "    .dataframe tbody tr th {\n",
       "        vertical-align: top;\n",
       "    }\n",
       "\n",
       "    .dataframe thead th {\n",
       "        text-align: right;\n",
       "    }\n",
       "</style>\n",
       "<table border=\"1\" class=\"dataframe\">\n",
       "  <thead>\n",
       "    <tr style=\"text-align: right;\">\n",
       "      <th></th>\n",
       "      <th>CustomerID</th>\n",
       "      <th>Age</th>\n",
       "      <th>Subscription_Length_Months</th>\n",
       "      <th>Monthly_Bill</th>\n",
       "      <th>Total_Usage_GB</th>\n",
       "      <th>Churn</th>\n",
       "    </tr>\n",
       "  </thead>\n",
       "  <tbody>\n",
       "    <tr>\n",
       "      <th>count</th>\n",
       "      <td>100000.000000</td>\n",
       "      <td>100000.000000</td>\n",
       "      <td>100000.000000</td>\n",
       "      <td>100000.000000</td>\n",
       "      <td>100000.000000</td>\n",
       "      <td>100000.000000</td>\n",
       "    </tr>\n",
       "    <tr>\n",
       "      <th>mean</th>\n",
       "      <td>50000.500000</td>\n",
       "      <td>44.027020</td>\n",
       "      <td>12.490100</td>\n",
       "      <td>65.053197</td>\n",
       "      <td>274.393650</td>\n",
       "      <td>0.497790</td>\n",
       "    </tr>\n",
       "    <tr>\n",
       "      <th>std</th>\n",
       "      <td>28867.657797</td>\n",
       "      <td>15.280283</td>\n",
       "      <td>6.926461</td>\n",
       "      <td>20.230696</td>\n",
       "      <td>130.463063</td>\n",
       "      <td>0.499998</td>\n",
       "    </tr>\n",
       "    <tr>\n",
       "      <th>min</th>\n",
       "      <td>1.000000</td>\n",
       "      <td>18.000000</td>\n",
       "      <td>1.000000</td>\n",
       "      <td>30.000000</td>\n",
       "      <td>50.000000</td>\n",
       "      <td>0.000000</td>\n",
       "    </tr>\n",
       "    <tr>\n",
       "      <th>25%</th>\n",
       "      <td>25000.750000</td>\n",
       "      <td>31.000000</td>\n",
       "      <td>6.000000</td>\n",
       "      <td>47.540000</td>\n",
       "      <td>161.000000</td>\n",
       "      <td>0.000000</td>\n",
       "    </tr>\n",
       "    <tr>\n",
       "      <th>50%</th>\n",
       "      <td>50000.500000</td>\n",
       "      <td>44.000000</td>\n",
       "      <td>12.000000</td>\n",
       "      <td>65.010000</td>\n",
       "      <td>274.000000</td>\n",
       "      <td>0.000000</td>\n",
       "    </tr>\n",
       "    <tr>\n",
       "      <th>75%</th>\n",
       "      <td>75000.250000</td>\n",
       "      <td>57.000000</td>\n",
       "      <td>19.000000</td>\n",
       "      <td>82.640000</td>\n",
       "      <td>387.000000</td>\n",
       "      <td>1.000000</td>\n",
       "    </tr>\n",
       "    <tr>\n",
       "      <th>max</th>\n",
       "      <td>100000.000000</td>\n",
       "      <td>70.000000</td>\n",
       "      <td>24.000000</td>\n",
       "      <td>100.000000</td>\n",
       "      <td>500.000000</td>\n",
       "      <td>1.000000</td>\n",
       "    </tr>\n",
       "  </tbody>\n",
       "</table>\n",
       "</div>"
      ],
      "text/plain": [
       "          CustomerID            Age  Subscription_Length_Months  \\\n",
       "count  100000.000000  100000.000000               100000.000000   \n",
       "mean    50000.500000      44.027020                   12.490100   \n",
       "std     28867.657797      15.280283                    6.926461   \n",
       "min         1.000000      18.000000                    1.000000   \n",
       "25%     25000.750000      31.000000                    6.000000   \n",
       "50%     50000.500000      44.000000                   12.000000   \n",
       "75%     75000.250000      57.000000                   19.000000   \n",
       "max    100000.000000      70.000000                   24.000000   \n",
       "\n",
       "        Monthly_Bill  Total_Usage_GB          Churn  \n",
       "count  100000.000000   100000.000000  100000.000000  \n",
       "mean       65.053197      274.393650       0.497790  \n",
       "std        20.230696      130.463063       0.499998  \n",
       "min        30.000000       50.000000       0.000000  \n",
       "25%        47.540000      161.000000       0.000000  \n",
       "50%        65.010000      274.000000       0.000000  \n",
       "75%        82.640000      387.000000       1.000000  \n",
       "max       100.000000      500.000000       1.000000  "
      ]
     },
     "execution_count": 45,
     "metadata": {},
     "output_type": "execute_result"
    }
   ],
   "source": [
    "# decription of the data \n",
    "df.describe()"
   ]
  },
  {
   "cell_type": "code",
   "execution_count": 46,
   "id": "0160b3d5",
   "metadata": {
    "ExecuteTime": {
     "end_time": "2023-08-24T20:28:25.776145Z",
     "start_time": "2023-08-24T20:28:25.762173Z"
    }
   },
   "outputs": [
    {
     "data": {
      "text/plain": [
       "CustomerID                    float64\n",
       "Name                           object\n",
       "Age                           float64\n",
       "Gender                         object\n",
       "Location                       object\n",
       "Subscription_Length_Months    float64\n",
       "Monthly_Bill                  float64\n",
       "Total_Usage_GB                float64\n",
       "Churn                         float64\n",
       "dtype: object"
      ]
     },
     "execution_count": 46,
     "metadata": {},
     "output_type": "execute_result"
    }
   ],
   "source": [
    "# datatypes of the data\n",
    "df.dtypes"
   ]
  },
  {
   "cell_type": "code",
   "execution_count": 47,
   "id": "36beab7f",
   "metadata": {
    "ExecuteTime": {
     "end_time": "2023-08-24T20:28:25.789470Z",
     "start_time": "2023-08-24T20:28:25.781985Z"
    }
   },
   "outputs": [
    {
     "data": {
      "text/plain": [
       "(100000, 9)"
      ]
     },
     "execution_count": 47,
     "metadata": {},
     "output_type": "execute_result"
    }
   ],
   "source": [
    "# shape of the data\n",
    "df.shape"
   ]
  },
  {
   "cell_type": "code",
   "execution_count": 48,
   "id": "431b9ee3",
   "metadata": {
    "ExecuteTime": {
     "end_time": "2023-08-24T20:28:25.932545Z",
     "start_time": "2023-08-24T20:28:25.793024Z"
    }
   },
   "outputs": [],
   "source": [
    "#Missing Values\n",
    "missing_value = pd.DataFrame({\n",
    "    'Missing Value': df.isnull().sum(),\n",
    "    'Percentage': (df.isnull().sum() / len(df))*100\n",
    "})"
   ]
  },
  {
   "cell_type": "code",
   "execution_count": 49,
   "id": "22fe6107",
   "metadata": {
    "ExecuteTime": {
     "end_time": "2023-08-24T20:28:25.959641Z",
     "start_time": "2023-08-24T20:28:25.934510Z"
    }
   },
   "outputs": [
    {
     "data": {
      "text/html": [
       "<div>\n",
       "<style scoped>\n",
       "    .dataframe tbody tr th:only-of-type {\n",
       "        vertical-align: middle;\n",
       "    }\n",
       "\n",
       "    .dataframe tbody tr th {\n",
       "        vertical-align: top;\n",
       "    }\n",
       "\n",
       "    .dataframe thead th {\n",
       "        text-align: right;\n",
       "    }\n",
       "</style>\n",
       "<table border=\"1\" class=\"dataframe\">\n",
       "  <thead>\n",
       "    <tr style=\"text-align: right;\">\n",
       "      <th></th>\n",
       "      <th>Missing Value</th>\n",
       "      <th>Percentage</th>\n",
       "    </tr>\n",
       "  </thead>\n",
       "  <tbody>\n",
       "    <tr>\n",
       "      <th>CustomerID</th>\n",
       "      <td>0</td>\n",
       "      <td>0.0</td>\n",
       "    </tr>\n",
       "    <tr>\n",
       "      <th>Name</th>\n",
       "      <td>0</td>\n",
       "      <td>0.0</td>\n",
       "    </tr>\n",
       "    <tr>\n",
       "      <th>Age</th>\n",
       "      <td>0</td>\n",
       "      <td>0.0</td>\n",
       "    </tr>\n",
       "    <tr>\n",
       "      <th>Gender</th>\n",
       "      <td>0</td>\n",
       "      <td>0.0</td>\n",
       "    </tr>\n",
       "    <tr>\n",
       "      <th>Location</th>\n",
       "      <td>0</td>\n",
       "      <td>0.0</td>\n",
       "    </tr>\n",
       "    <tr>\n",
       "      <th>Subscription_Length_Months</th>\n",
       "      <td>0</td>\n",
       "      <td>0.0</td>\n",
       "    </tr>\n",
       "    <tr>\n",
       "      <th>Monthly_Bill</th>\n",
       "      <td>0</td>\n",
       "      <td>0.0</td>\n",
       "    </tr>\n",
       "    <tr>\n",
       "      <th>Total_Usage_GB</th>\n",
       "      <td>0</td>\n",
       "      <td>0.0</td>\n",
       "    </tr>\n",
       "    <tr>\n",
       "      <th>Churn</th>\n",
       "      <td>0</td>\n",
       "      <td>0.0</td>\n",
       "    </tr>\n",
       "  </tbody>\n",
       "</table>\n",
       "</div>"
      ],
      "text/plain": [
       "                            Missing Value  Percentage\n",
       "CustomerID                              0         0.0\n",
       "Name                                    0         0.0\n",
       "Age                                     0         0.0\n",
       "Gender                                  0         0.0\n",
       "Location                                0         0.0\n",
       "Subscription_Length_Months              0         0.0\n",
       "Monthly_Bill                            0         0.0\n",
       "Total_Usage_GB                          0         0.0\n",
       "Churn                                   0         0.0"
      ]
     },
     "execution_count": 49,
     "metadata": {},
     "output_type": "execute_result"
    }
   ],
   "source": [
    "missing_value.sort_values(by='Percentage', ascending=False)"
   ]
  },
  {
   "cell_type": "markdown",
   "id": "f8243b4a",
   "metadata": {},
   "source": [
    "there are no missing values"
   ]
  },
  {
   "cell_type": "code",
   "execution_count": 50,
   "id": "67df9f53",
   "metadata": {
    "ExecuteTime": {
     "end_time": "2023-08-24T20:28:26.058640Z",
     "start_time": "2023-08-24T20:28:25.961633Z"
    }
   },
   "outputs": [
    {
     "name": "stdout",
     "output_type": "stream",
     "text": [
      "There are 0 duplicated rows in the data\n"
     ]
    }
   ],
   "source": [
    "#Duplicate Data\n",
    "duplicate = df.duplicated().sum()\n",
    "print('There are {} duplicated rows in the data'.format(duplicate))"
   ]
  },
  {
   "cell_type": "code",
   "execution_count": 51,
   "id": "667a1a20",
   "metadata": {
    "ExecuteTime": {
     "end_time": "2023-08-24T20:28:26.073885Z",
     "start_time": "2023-08-24T20:28:26.060632Z"
    }
   },
   "outputs": [
    {
     "name": "stdout",
     "output_type": "stream",
     "text": [
      "The numerical columns in the dataset are:  Index(['CustomerID', 'Age', 'Subscription_Length_Months', 'Monthly_Bill',\n",
      "       'Total_Usage_GB', 'Churn'],\n",
      "      dtype='object')\n"
     ]
    }
   ],
   "source": [
    "df_num_features = df.select_dtypes(include=np.number)\n",
    "\n",
    "print('The numerical columns in the dataset are: ',df_num_features.columns)"
   ]
  },
  {
   "cell_type": "code",
   "execution_count": 52,
   "id": "ccf0c104",
   "metadata": {
    "ExecuteTime": {
     "end_time": "2023-08-24T20:28:26.126830Z",
     "start_time": "2023-08-24T20:28:26.075847Z"
    }
   },
   "outputs": [
    {
     "name": "stdout",
     "output_type": "stream",
     "text": [
      "                 Age  Subscription_Length_Months   Monthly_Bill  \\\n",
      "count  100000.000000               100000.000000  100000.000000   \n",
      "mean       44.027020                   12.490100      65.053197   \n",
      "std        15.280283                    6.926461      20.230696   \n",
      "min        18.000000                    1.000000      30.000000   \n",
      "25%        31.000000                    6.000000      47.540000   \n",
      "50%        44.000000                   12.000000      65.010000   \n",
      "75%        57.000000                   19.000000      82.640000   \n",
      "max        70.000000                   24.000000     100.000000   \n",
      "\n",
      "       Total_Usage_GB  \n",
      "count   100000.000000  \n",
      "mean       274.393650  \n",
      "std        130.463063  \n",
      "min         50.000000  \n",
      "25%        161.000000  \n",
      "50%        274.000000  \n",
      "75%        387.000000  \n",
      "max        500.000000  \n"
     ]
    }
   ],
   "source": [
    "# Display basic statistics for numerical variables\n",
    "print(df[['Age', 'Subscription_Length_Months', 'Monthly_Bill', 'Total_Usage_GB']].describe())"
   ]
  },
  {
   "cell_type": "code",
   "execution_count": 53,
   "id": "6ab7c430",
   "metadata": {
    "ExecuteTime": {
     "end_time": "2023-08-24T20:28:26.568657Z",
     "start_time": "2023-08-24T20:28:26.128826Z"
    }
   },
   "outputs": [
    {
     "data": {
      "image/png": "[encoded data removed]",
      "text/plain": [
       "<Figure size 576x432 with 2 Axes>"
      ]
     },
     "metadata": {
      "needs_background": "light"
     },
     "output_type": "display_data"
    }
   ],
   "source": [
    "# Correlation matrix for numerical variables\n",
    "correlation_matrix = df[['Age', 'Subscription_Length_Months', 'Monthly_Bill', 'Total_Usage_GB']].corr()\n",
    "plt.figure(figsize=(8, 6))\n",
    "sns.heatmap(correlation_matrix, annot=True, cmap='coolwarm', center=0)\n",
    "plt.title('Correlation Matrix')\n",
    "plt.show()"
   ]
  },
  {
   "cell_type": "code",
   "execution_count": 54,
   "id": "004d9694",
   "metadata": {
    "ExecuteTime": {
     "end_time": "2023-08-24T20:28:26.779732Z",
     "start_time": "2023-08-24T20:28:26.573613Z"
    }
   },
   "outputs": [
    {
     "data": {
      "image/png": "[encoded data removed]",
      "text/plain": [
       "<Figure size 432x432 with 1 Axes>"
      ]
     },
     "metadata": {
      "needs_background": "light"
     },
     "output_type": "display_data"
    }
   ],
   "source": [
    "# Churn distribution\n",
    "plt.figure(figsize=(6, 6))\n",
    "sns.countplot(data=df, x='Churn')\n",
    "plt.title('Churn Distribution')\n",
    "plt.xlabel('Churn')\n",
    "plt.ylabel('Count')\n",
    "plt.show()"
   ]
  },
  {
   "cell_type": "markdown",
   "id": "9a4b8740",
   "metadata": {},
   "source": [
    "# AUTOMATED EDA"
   ]
  },
  {
   "cell_type": "markdown",
   "id": "81a71562",
   "metadata": {},
   "source": [
    "# D-Tale"
   ]
  },
  {
   "cell_type": "code",
   "execution_count": 55,
   "id": "fd03179d",
   "metadata": {
    "ExecuteTime": {
     "end_time": "2023-08-24T20:28:26.795412Z",
     "start_time": "2023-08-24T20:28:26.781727Z"
    }
   },
   "outputs": [],
   "source": [
    "# d-tale in a few lines of code we can analyze and visualize the data"
   ]
  },
  {
   "cell_type": "code",
   "execution_count": 56,
   "id": "f7f5265e",
   "metadata": {
    "ExecuteTime": {
     "end_time": "2023-08-24T20:28:39.503950Z",
     "start_time": "2023-08-24T20:28:26.797407Z"
    },
    "scrolled": true
   },
   "outputs": [
    {
     "name": "stdout",
     "output_type": "stream",
     "text": [
      "Requirement already satisfied: dtale in c:\\anaconda\\lib\\site-packages (2.12.2)\n",
      "Requirement already satisfied: dash-colorscales in c:\\anaconda\\lib\\site-packages (from dtale) (0.0.4)\n",
      "Requirement already satisfied: dash-daq in c:\\anaconda\\lib\\site-packages (from dtale) (0.5.0)\n",
      "Requirement already satisfied: Flask-Compress in c:\\anaconda\\lib\\site-packages (from dtale) (1.13)\n",
      "Requirement already satisfied: future>=0.14.0 in c:\\anaconda\\lib\\site-packages (from dtale) (0.18.2)\n",
      "Requirement already satisfied: missingno<=0.4.2 in c:\\anaconda\\lib\\site-packages (from dtale) (0.4.2)\n",
      "Requirement already satisfied: pandas in c:\\anaconda\\lib\\site-packages (from dtale) (1.4.2)\n",
      "Requirement already satisfied: squarify in c:\\anaconda\\lib\\site-packages (from dtale) (0.4.3)\n",
      "Requirement already satisfied: strsimpy in c:\\anaconda\\lib\\site-packages (from dtale) (0.2.1)\n",
      "Requirement already satisfied: six in c:\\anaconda\\lib\\site-packages (from dtale) (1.12.0)\n",
      "Requirement already satisfied: xlrd in c:\\anaconda\\lib\\site-packages (from dtale) (1.2.0)\n",
      "Requirement already satisfied: matplotlib==3.6.0 in c:\\anaconda\\lib\\site-packages (from dtale) (3.6.0)\n",
      "Requirement already satisfied: lz4 in c:\\anaconda\\lib\\site-packages (from dtale) (4.3.2)\n",
      "Requirement already satisfied: beautifulsoup4 in c:\\anaconda\\lib\\site-packages (from dtale) (4.12.2)\n",
      "Requirement already satisfied: certifi in c:\\anaconda\\lib\\site-packages (from dtale) (2021.10.8)\n",
      "Requirement already satisfied: cycler in c:\\anaconda\\lib\\site-packages (from dtale) (0.11.0)\n",
      "Requirement already satisfied: dash-bootstrap-components in c:\\anaconda\\lib\\site-packages (from dtale) (1.3.1)\n",
      "Requirement already satisfied: flask-ngrok in c:\\anaconda\\lib\\site-packages (from dtale) (0.0.25)\n",
      "Requirement already satisfied: dash>=2.0.0 in c:\\anaconda\\lib\\site-packages (from dtale) (2.8.1)\n",
      "Requirement already satisfied: kaleido in c:\\anaconda\\lib\\site-packages (from dtale) (0.2.1)\n",
      "Requirement already satisfied: seaborn in c:\\anaconda\\lib\\site-packages (from dtale) (0.11.2)\n",
      "Requirement already satisfied: networkx in c:\\anaconda\\lib\\site-packages (from dtale) (2.7.1)\n",
      "Requirement already satisfied: scikit-learn in c:\\anaconda\\lib\\site-packages (from dtale) (1.0.2)\n",
      "Requirement already satisfied: statsmodels in c:\\anaconda\\lib\\site-packages (from dtale) (0.13.2)\n",
      "Requirement already satisfied: numpy in c:\\anaconda\\lib\\site-packages (from dtale) (1.21.5)\n",
      "Requirement already satisfied: openpyxl in c:\\anaconda\\lib\\site-packages (from dtale) (3.0.9)\n",
      "Requirement already satisfied: xarray in c:\\anaconda\\lib\\site-packages (from dtale) (0.20.1)\n",
      "Requirement already satisfied: et-xmlfile in c:\\anaconda\\lib\\site-packages (from dtale) (1.1.0)\n",
      "Requirement already satisfied: plotly>=5.0.0 in c:\\anaconda\\lib\\site-packages (from dtale) (5.6.0)\n",
      "Requirement already satisfied: requests in c:\\anaconda\\lib\\site-packages (from dtale) (2.27.1)\n",
      "Requirement already satisfied: Flask in c:\\anaconda\\lib\\site-packages (from dtale) (1.1.2)\n",
      "Requirement already satisfied: itsdangerous in c:\\anaconda\\lib\\site-packages (from dtale) (2.0.1)\n",
      "Requirement already satisfied: scipy==1.9.3 in c:\\anaconda\\lib\\site-packages (from dtale) (1.9.3)\n",
      "Requirement already satisfied: contourpy>=1.0.1 in c:\\anaconda\\lib\\site-packages (from matplotlib==3.6.0->dtale) (1.0.7)\n",
      "Requirement already satisfied: fonttools>=4.22.0 in c:\\anaconda\\lib\\site-packages (from matplotlib==3.6.0->dtale) (4.25.0)\n",
      "Requirement already satisfied: kiwisolver>=1.0.1 in c:\\anaconda\\lib\\site-packages (from matplotlib==3.6.0->dtale) (1.3.2)\n",
      "Requirement already satisfied: packaging>=20.0 in c:\\anaconda\\lib\\site-packages (from matplotlib==3.6.0->dtale) (21.3)\n",
      "Requirement already satisfied: pillow>=6.2.0 in c:\\anaconda\\lib\\site-packages (from matplotlib==3.6.0->dtale) (9.0.1)\n",
      "Requirement already satisfied: pyparsing>=2.2.1 in c:\\anaconda\\lib\\site-packages (from matplotlib==3.6.0->dtale) (3.0.4)\n",
      "Requirement already satisfied: python-dateutil>=2.7 in c:\\anaconda\\lib\\site-packages (from matplotlib==3.6.0->dtale) (2.8.2)\n",
      "Requirement already satisfied: dash-html-components==2.0.0 in c:\\anaconda\\lib\\site-packages (from dash>=2.0.0->dtale) (2.0.0)\n",
      "Requirement already satisfied: dash-core-components==2.0.0 in c:\\anaconda\\lib\\site-packages (from dash>=2.0.0->dtale) (2.0.0)\n",
      "Requirement already satisfied: dash-table==5.0.0 in c:\\anaconda\\lib\\site-packages (from dash>=2.0.0->dtale) (5.0.0)\n",
      "Requirement already satisfied: Werkzeug>=0.15 in c:\\anaconda\\lib\\site-packages (from Flask->dtale) (2.0.3)\n",
      "Requirement already satisfied: Jinja2>=2.10.1 in c:\\anaconda\\lib\\site-packages (from Flask->dtale) (2.11.3)\n",
      "Requirement already satisfied: click>=5.1 in c:\\anaconda\\lib\\site-packages (from Flask->dtale) (8.0.4)\n",
      "Requirement already satisfied: tenacity>=6.2.0 in c:\\anaconda\\lib\\site-packages (from plotly>=5.0.0->dtale) (8.0.1)\n",
      "Requirement already satisfied: soupsieve>1.2 in c:\\anaconda\\lib\\site-packages (from beautifulsoup4->dtale) (2.3.1)\n",
      "Requirement already satisfied: brotli in c:\\anaconda\\lib\\site-packages (from Flask-Compress->dtale) (1.0.9)\n",
      "Requirement already satisfied: pytz>=2020.1 in c:\\anaconda\\lib\\site-packages (from pandas->dtale) (2022.7.1)\n",
      "Requirement already satisfied: urllib3<1.27,>=1.21.1 in c:\\anaconda\\lib\\site-packages (from requests->dtale) (1.26.9)\n",
      "Requirement already satisfied: charset-normalizer~=2.0.0 in c:\\anaconda\\lib\\site-packages (from requests->dtale) (2.0.4)\n",
      "Requirement already satisfied: idna<4,>=2.5 in c:\\anaconda\\lib\\site-packages (from requests->dtale) (3.3)\n",
      "Requirement already satisfied: joblib>=0.11 in c:\\anaconda\\lib\\site-packages (from scikit-learn->dtale) (1.3.2)\n",
      "Requirement already satisfied: threadpoolctl>=2.0.0 in c:\\anaconda\\lib\\site-packages (from scikit-learn->dtale) (2.2.0)\n",
      "Requirement already satisfied: patsy>=0.5.2 in c:\\anaconda\\lib\\site-packages (from statsmodels->dtale) (0.5.2)\n",
      "Requirement already satisfied: colorama in c:\\anaconda\\lib\\site-packages (from click>=5.1->Flask->dtale) (0.4.6)\n",
      "Requirement already satisfied: MarkupSafe>=0.23 in c:\\anaconda\\lib\\site-packages (from Jinja2>=2.10.1->Flask->dtale) (2.0.1)\n"
     ]
    },
    {
     "name": "stderr",
     "output_type": "stream",
     "text": [
      "WARNING: Ignoring invalid distribution -atplotlib (c:\\anaconda\\lib\\site-packages)\n",
      "WARNING: Ignoring invalid distribution -atplotlib (c:\\anaconda\\lib\\site-packages)\n",
      "\n",
      "[notice] A new release of pip is available: 23.1.2 -> 23.2.1\n",
      "[notice] To update, run: python.exe -m pip install --upgrade pip\n"
     ]
    },
    {
     "data": {
      "text/html": [
       "\n",
       "        <iframe\n",
       "            width=\"100%\"\n",
       "            height=\"475\"\n",
       "            src=\"http://LAPTOP-3E59U41O:40000/dtale/iframe/1\"\n",
       "            frameborder=\"0\"\n",
       "            allowfullscreen\n",
       "            \n",
       "        ></iframe>\n",
       "        "
      ],
      "text/plain": [
       "<IPython.lib.display.IFrame at 0x196c95c1f40>"
      ]
     },
     "metadata": {},
     "output_type": "display_data"
    },
    {
     "data": {
      "text/plain": []
     },
     "execution_count": 56,
     "metadata": {},
     "output_type": "execute_result"
    }
   ],
   "source": [
    "!pip install dtale\n",
    "import dtale\n",
    "dtale.show(df)"
   ]
  },
  {
   "cell_type": "code",
   "execution_count": 57,
   "id": "539642ae",
   "metadata": {
    "ExecuteTime": {
     "end_time": "2023-08-24T20:28:39.519189Z",
     "start_time": "2023-08-24T20:28:39.506562Z"
    }
   },
   "outputs": [],
   "source": [
    "# handling outliers "
   ]
  },
  {
   "cell_type": "code",
   "execution_count": 58,
   "id": "a05a5658",
   "metadata": {
    "ExecuteTime": {
     "end_time": "2023-08-24T20:28:39.535043Z",
     "start_time": "2023-08-24T20:28:39.522187Z"
    }
   },
   "outputs": [],
   "source": [
    "df_num_features=df.select_dtypes(include=np.number)"
   ]
  },
  {
   "cell_type": "code",
   "execution_count": 59,
   "id": "07eb6914",
   "metadata": {
    "ExecuteTime": {
     "end_time": "2023-08-24T20:28:39.582373Z",
     "start_time": "2023-08-24T20:28:39.539346Z"
    }
   },
   "outputs": [
    {
     "name": "stdout",
     "output_type": "stream",
     "text": [
      "CustomerID                    49999.5\n",
      "Age                              26.0\n",
      "Subscription_Length_Months       13.0\n",
      "Monthly_Bill                     35.1\n",
      "Total_Usage_GB                  226.0\n",
      "Churn                             1.0\n",
      "dtype: float64\n"
     ]
    }
   ],
   "source": [
    "Q1 = df_num_features.quantile(0.25)\n",
    "Q3 = df_num_features.quantile(0.75)\n",
    "IQR = Q3 - Q1\n",
    "print(IQR)"
   ]
  },
  {
   "cell_type": "code",
   "execution_count": 60,
   "id": "2a0eb474",
   "metadata": {
    "ExecuteTime": {
     "end_time": "2023-08-24T20:28:39.645369Z",
     "start_time": "2023-08-24T20:28:39.584367Z"
    }
   },
   "outputs": [
    {
     "name": "stdout",
     "output_type": "stream",
     "text": [
      "Total number of Outliers in column CustomerID are 0\n",
      "Total number of Outliers in column Age are 0\n",
      "Total number of Outliers in column Subscription_Length_Months are 0\n",
      "Total number of Outliers in column Monthly_Bill are 0\n",
      "Total number of Outliers in column Total_Usage_GB are 0\n",
      "Total number of Outliers in column Churn are 0\n"
     ]
    }
   ],
   "source": [
    "outlier = pd.DataFrame((df_num_features < (Q1 - 1.5 * IQR)) | (df_num_features > (Q3 + 1.5 * IQR)))\n",
    "\n",
    "for i in outlier.columns:\n",
    "    print('Total number of Outliers in column {} are {}'.format(i, (len(outlier[outlier[i] == True][i]))))"
   ]
  },
  {
   "cell_type": "code",
   "execution_count": 61,
   "id": "2fbd7c04",
   "metadata": {
    "ExecuteTime": {
     "end_time": "2023-08-24T20:28:41.148125Z",
     "start_time": "2023-08-24T20:28:39.648497Z"
    }
   },
   "outputs": [
    {
     "data": {
      "image/png": "[encoded data removed]",
      "text/plain": [
       "<Figure size 2160x360 with 1 Axes>"
      ]
     },
     "metadata": {
      "needs_background": "light"
     },
     "output_type": "display_data"
    },
    {
     "data": {
      "image/png": "[encoded data removed]",
      "text/plain": [
       "<Figure size 2160x360 with 1 Axes>"
      ]
     },
     "metadata": {},
     "output_type": "display_data"
    },
    {
     "data": {
      "image/png": "[encoded data removed]",
      "text/plain": [
       "<Figure size 2160x360 with 1 Axes>"
      ]
     },
     "metadata": {},
     "output_type": "display_data"
    },
    {
     "data": {
      "image/png": "[encoded data removed]",
      "text/plain": [
       "<Figure size 2160x360 with 1 Axes>"
      ]
     },
     "metadata": {},
     "output_type": "display_data"
    },
    {
     "data": {
      "image/png": "[encoded data removed]",
      "text/plain": [
       "<Figure size 2160x360 with 1 Axes>"
      ]
     },
     "metadata": {},
     "output_type": "display_data"
    },
    {
     "data": {
      "image/png": "[encoded data removed]",
      "text/plain": [
       "<Figure size 2160x360 with 1 Axes>"
      ]
     },
     "metadata": {},
     "output_type": "display_data"
    }
   ],
   "source": [
    "for column in enumerate(df_num_features):\n",
    "    plt.figure(figsize=(30,5))\n",
    "    sns.set_theme(style=\"darkgrid\")\n",
    "    sns.boxplot(x=column[1], data=  df_num_features)\n",
    "    plt.xlabel(column[1],fontsize=18)\n",
    "    plt.show()"
   ]
  },
  {
   "cell_type": "markdown",
   "id": "43624c2c",
   "metadata": {},
   "source": [
    "there are no outliers"
   ]
  },
  {
   "cell_type": "code",
   "execution_count": 62,
   "id": "b032ff1a",
   "metadata": {
    "ExecuteTime": {
     "end_time": "2023-08-24T20:28:41.227045Z",
     "start_time": "2023-08-24T20:28:41.150119Z"
    }
   },
   "outputs": [],
   "source": [
    "# Encode Categorical Variables\n",
    "# Let's use Label Encoding for simplicity (replace with one-hot encoding if needed)\n",
    "from sklearn.preprocessing import LabelEncoder\n",
    "label_encoder = LabelEncoder()\n",
    "categorical_columns = ['Gender', 'Location']\n",
    "for col in categorical_columns:\n",
    "    df[col] = label_encoder.fit_transform(df[col])\n"
   ]
  },
  {
   "cell_type": "code",
   "execution_count": 63,
   "id": "4e886139",
   "metadata": {
    "ExecuteTime": {
     "end_time": "2023-08-24T20:28:41.242099Z",
     "start_time": "2023-08-24T20:28:41.229007Z"
    }
   },
   "outputs": [],
   "source": [
    "df.drop(['CustomerID','Name'], inplace=True, axis=1)"
   ]
  },
  {
   "cell_type": "code",
   "execution_count": 64,
   "id": "bbb269ce",
   "metadata": {
    "ExecuteTime": {
     "end_time": "2023-08-24T20:28:41.275659Z",
     "start_time": "2023-08-24T20:28:41.244918Z"
    }
   },
   "outputs": [
    {
     "data": {
      "text/html": [
       "<div>\n",
       "<style scoped>\n",
       "    .dataframe tbody tr th:only-of-type {\n",
       "        vertical-align: middle;\n",
       "    }\n",
       "\n",
       "    .dataframe tbody tr th {\n",
       "        vertical-align: top;\n",
       "    }\n",
       "\n",
       "    .dataframe thead th {\n",
       "        text-align: right;\n",
       "    }\n",
       "</style>\n",
       "<table border=\"1\" class=\"dataframe\">\n",
       "  <thead>\n",
       "    <tr style=\"text-align: right;\">\n",
       "      <th></th>\n",
       "      <th>Age</th>\n",
       "      <th>Gender</th>\n",
       "      <th>Location</th>\n",
       "      <th>Subscription_Length_Months</th>\n",
       "      <th>Monthly_Bill</th>\n",
       "      <th>Total_Usage_GB</th>\n",
       "      <th>Churn</th>\n",
       "    </tr>\n",
       "  </thead>\n",
       "  <tbody>\n",
       "    <tr>\n",
       "      <th>0</th>\n",
       "      <td>63.0</td>\n",
       "      <td>1</td>\n",
       "      <td>2</td>\n",
       "      <td>17.0</td>\n",
       "      <td>73.36</td>\n",
       "      <td>236.0</td>\n",
       "      <td>0.0</td>\n",
       "    </tr>\n",
       "    <tr>\n",
       "      <th>1</th>\n",
       "      <td>62.0</td>\n",
       "      <td>0</td>\n",
       "      <td>4</td>\n",
       "      <td>1.0</td>\n",
       "      <td>48.76</td>\n",
       "      <td>172.0</td>\n",
       "      <td>0.0</td>\n",
       "    </tr>\n",
       "    <tr>\n",
       "      <th>2</th>\n",
       "      <td>24.0</td>\n",
       "      <td>0</td>\n",
       "      <td>2</td>\n",
       "      <td>5.0</td>\n",
       "      <td>85.47</td>\n",
       "      <td>460.0</td>\n",
       "      <td>0.0</td>\n",
       "    </tr>\n",
       "    <tr>\n",
       "      <th>3</th>\n",
       "      <td>36.0</td>\n",
       "      <td>0</td>\n",
       "      <td>3</td>\n",
       "      <td>3.0</td>\n",
       "      <td>97.94</td>\n",
       "      <td>297.0</td>\n",
       "      <td>1.0</td>\n",
       "    </tr>\n",
       "    <tr>\n",
       "      <th>4</th>\n",
       "      <td>46.0</td>\n",
       "      <td>0</td>\n",
       "      <td>3</td>\n",
       "      <td>19.0</td>\n",
       "      <td>58.14</td>\n",
       "      <td>266.0</td>\n",
       "      <td>0.0</td>\n",
       "    </tr>\n",
       "  </tbody>\n",
       "</table>\n",
       "</div>"
      ],
      "text/plain": [
       "    Age  Gender  Location  Subscription_Length_Months  Monthly_Bill  \\\n",
       "0  63.0       1         2                        17.0         73.36   \n",
       "1  62.0       0         4                         1.0         48.76   \n",
       "2  24.0       0         2                         5.0         85.47   \n",
       "3  36.0       0         3                         3.0         97.94   \n",
       "4  46.0       0         3                        19.0         58.14   \n",
       "\n",
       "   Total_Usage_GB  Churn  \n",
       "0           236.0    0.0  \n",
       "1           172.0    0.0  \n",
       "2           460.0    0.0  \n",
       "3           297.0    1.0  \n",
       "4           266.0    0.0  "
      ]
     },
     "execution_count": 64,
     "metadata": {},
     "output_type": "execute_result"
    }
   ],
   "source": [
    "df.head()"
   ]
  },
  {
   "cell_type": "code",
   "execution_count": 65,
   "id": "7cc85264",
   "metadata": {
    "ExecuteTime": {
     "end_time": "2023-08-24T20:28:41.294061Z",
     "start_time": "2023-08-24T20:28:41.277654Z"
    }
   },
   "outputs": [],
   "source": [
    "# Split the data into features (X) and target (y)\n",
    "X = df.drop('Churn', axis=1)\n",
    "y = df['Churn']"
   ]
  },
  {
   "cell_type": "code",
   "execution_count": 66,
   "id": "9efccd36",
   "metadata": {
    "ExecuteTime": {
     "end_time": "2023-08-24T20:28:41.379736Z",
     "start_time": "2023-08-24T20:28:41.295155Z"
    }
   },
   "outputs": [
    {
     "data": {
      "text/html": [
       "<div>\n",
       "<style scoped>\n",
       "    .dataframe tbody tr th:only-of-type {\n",
       "        vertical-align: middle;\n",
       "    }\n",
       "\n",
       "    .dataframe tbody tr th {\n",
       "        vertical-align: top;\n",
       "    }\n",
       "\n",
       "    .dataframe thead th {\n",
       "        text-align: right;\n",
       "    }\n",
       "</style>\n",
       "<table border=\"1\" class=\"dataframe\">\n",
       "  <thead>\n",
       "    <tr style=\"text-align: right;\">\n",
       "      <th></th>\n",
       "      <th>Age</th>\n",
       "      <th>Gender</th>\n",
       "      <th>Location</th>\n",
       "      <th>Subscription_Length_Months</th>\n",
       "      <th>Monthly_Bill</th>\n",
       "      <th>Total_Usage_GB</th>\n",
       "      <th>Churn</th>\n",
       "    </tr>\n",
       "  </thead>\n",
       "  <tbody>\n",
       "    <tr>\n",
       "      <th>count</th>\n",
       "      <td>100000.000000</td>\n",
       "      <td>100000.000000</td>\n",
       "      <td>100000.000000</td>\n",
       "      <td>100000.000000</td>\n",
       "      <td>100000.000000</td>\n",
       "      <td>100000.000000</td>\n",
       "      <td>100000.000000</td>\n",
       "    </tr>\n",
       "    <tr>\n",
       "      <th>mean</th>\n",
       "      <td>44.027020</td>\n",
       "      <td>0.497840</td>\n",
       "      <td>1.995840</td>\n",
       "      <td>12.490100</td>\n",
       "      <td>65.053197</td>\n",
       "      <td>274.393650</td>\n",
       "      <td>0.497790</td>\n",
       "    </tr>\n",
       "    <tr>\n",
       "      <th>std</th>\n",
       "      <td>15.280283</td>\n",
       "      <td>0.499998</td>\n",
       "      <td>1.411638</td>\n",
       "      <td>6.926461</td>\n",
       "      <td>20.230696</td>\n",
       "      <td>130.463063</td>\n",
       "      <td>0.499998</td>\n",
       "    </tr>\n",
       "    <tr>\n",
       "      <th>min</th>\n",
       "      <td>18.000000</td>\n",
       "      <td>0.000000</td>\n",
       "      <td>0.000000</td>\n",
       "      <td>1.000000</td>\n",
       "      <td>30.000000</td>\n",
       "      <td>50.000000</td>\n",
       "      <td>0.000000</td>\n",
       "    </tr>\n",
       "    <tr>\n",
       "      <th>25%</th>\n",
       "      <td>31.000000</td>\n",
       "      <td>0.000000</td>\n",
       "      <td>1.000000</td>\n",
       "      <td>6.000000</td>\n",
       "      <td>47.540000</td>\n",
       "      <td>161.000000</td>\n",
       "      <td>0.000000</td>\n",
       "    </tr>\n",
       "    <tr>\n",
       "      <th>50%</th>\n",
       "      <td>44.000000</td>\n",
       "      <td>0.000000</td>\n",
       "      <td>2.000000</td>\n",
       "      <td>12.000000</td>\n",
       "      <td>65.010000</td>\n",
       "      <td>274.000000</td>\n",
       "      <td>0.000000</td>\n",
       "    </tr>\n",
       "    <tr>\n",
       "      <th>75%</th>\n",
       "      <td>57.000000</td>\n",
       "      <td>1.000000</td>\n",
       "      <td>3.000000</td>\n",
       "      <td>19.000000</td>\n",
       "      <td>82.640000</td>\n",
       "      <td>387.000000</td>\n",
       "      <td>1.000000</td>\n",
       "    </tr>\n",
       "    <tr>\n",
       "      <th>max</th>\n",
       "      <td>70.000000</td>\n",
       "      <td>1.000000</td>\n",
       "      <td>4.000000</td>\n",
       "      <td>24.000000</td>\n",
       "      <td>100.000000</td>\n",
       "      <td>500.000000</td>\n",
       "      <td>1.000000</td>\n",
       "    </tr>\n",
       "  </tbody>\n",
       "</table>\n",
       "</div>"
      ],
      "text/plain": [
       "                 Age         Gender       Location  \\\n",
       "count  100000.000000  100000.000000  100000.000000   \n",
       "mean       44.027020       0.497840       1.995840   \n",
       "std        15.280283       0.499998       1.411638   \n",
       "min        18.000000       0.000000       0.000000   \n",
       "25%        31.000000       0.000000       1.000000   \n",
       "50%        44.000000       0.000000       2.000000   \n",
       "75%        57.000000       1.000000       3.000000   \n",
       "max        70.000000       1.000000       4.000000   \n",
       "\n",
       "       Subscription_Length_Months   Monthly_Bill  Total_Usage_GB  \\\n",
       "count               100000.000000  100000.000000   100000.000000   \n",
       "mean                    12.490100      65.053197      274.393650   \n",
       "std                      6.926461      20.230696      130.463063   \n",
       "min                      1.000000      30.000000       50.000000   \n",
       "25%                      6.000000      47.540000      161.000000   \n",
       "50%                     12.000000      65.010000      274.000000   \n",
       "75%                     19.000000      82.640000      387.000000   \n",
       "max                     24.000000     100.000000      500.000000   \n",
       "\n",
       "               Churn  \n",
       "count  100000.000000  \n",
       "mean        0.497790  \n",
       "std         0.499998  \n",
       "min         0.000000  \n",
       "25%         0.000000  \n",
       "50%         0.000000  \n",
       "75%         1.000000  \n",
       "max         1.000000  "
      ]
     },
     "execution_count": 66,
     "metadata": {},
     "output_type": "execute_result"
    }
   ],
   "source": [
    "df.describe()"
   ]
  },
  {
   "cell_type": "code",
   "execution_count": 67,
   "id": "68f42419",
   "metadata": {
    "ExecuteTime": {
     "end_time": "2023-08-24T20:28:46.601238Z",
     "start_time": "2023-08-24T20:28:41.381464Z"
    }
   },
   "outputs": [
    {
     "name": "stdout",
     "output_type": "stream",
     "text": [
      "Selected feature names: Index(['Gender', 'Location', 'Subscription_Length_Months', 'Monthly_Bill',\n",
      "       'Total_Usage_GB'],\n",
      "      dtype='object')\n"
     ]
    }
   ],
   "source": [
    "# Select the top k features based on mutual information\n",
    "from sklearn.feature_selection import SelectKBest, mutual_info_classif\n",
    "num_features_to_select = 5  # Change this to the desired number of features\n",
    "mi_selector = SelectKBest(score_func=mutual_info_classif, k=num_features_to_select)\n",
    "X_new = mi_selector.fit_transform(X, y)\n",
    "\n",
    "# Get the indices of the selected features\n",
    "selected_feature_indices = mi_selector.get_support(indices=True)\n",
    "\n",
    "# Get the names of the selected features\n",
    "selected_feature_names = X.columns[selected_feature_indices]\n",
    "\n",
    "# Print the names of the selected features\n",
    "print(\"Selected feature names:\", selected_feature_names)"
   ]
  },
  {
   "cell_type": "markdown",
   "id": "35cf058b",
   "metadata": {},
   "source": [
    "all features other than customerid and name are important"
   ]
  },
  {
   "cell_type": "code",
   "execution_count": 68,
   "id": "b324ac63",
   "metadata": {
    "ExecuteTime": {
     "end_time": "2023-08-24T20:28:46.642748Z",
     "start_time": "2023-08-24T20:28:46.603316Z"
    }
   },
   "outputs": [],
   "source": [
    "# splitting of traing testing set into X and y\n",
    "\n",
    "from sklearn.model_selection import train_test_split\n",
    "\n",
    "X_train,X_test, y_train, y_test = train_test_split(X, y, test_size=0.2, random_state=42)"
   ]
  },
  {
   "cell_type": "code",
   "execution_count": 69,
   "id": "3aff3bff",
   "metadata": {
    "ExecuteTime": {
     "end_time": "2023-08-24T20:28:46.657838Z",
     "start_time": "2023-08-24T20:28:46.643838Z"
    }
   },
   "outputs": [
    {
     "name": "stdout",
     "output_type": "stream",
     "text": [
      "(80000, 6)\n",
      "(20000, 6)\n",
      "(80000,)\n",
      "(20000,)\n"
     ]
    }
   ],
   "source": [
    "print(X_train.shape)\n",
    "print(X_test.shape)\n",
    "print(y_train.shape)\n",
    "print(y_test.shape)"
   ]
  },
  {
   "cell_type": "markdown",
   "id": "6c2a4c6c",
   "metadata": {},
   "source": [
    "# FEATURE SCALING USING STANDARDIZATION¶"
   ]
  },
  {
   "cell_type": "code",
   "execution_count": 70,
   "id": "4483bdcc",
   "metadata": {
    "ExecuteTime": {
     "end_time": "2023-08-24T20:28:46.710190Z",
     "start_time": "2023-08-24T20:28:46.660340Z"
    }
   },
   "outputs": [],
   "source": [
    " #STANDARDIZATION\n",
    "from sklearn.preprocessing import StandardScaler\n",
    "scaler =StandardScaler()\n",
    "\n",
    "X_train = scaler.fit_transform(X_train)\n",
    "X_test = scaler.transform(X_test)"
   ]
  },
  {
   "cell_type": "code",
   "execution_count": 71,
   "id": "37df384e",
   "metadata": {
    "ExecuteTime": {
     "end_time": "2023-08-24T20:28:46.725903Z",
     "start_time": "2023-08-24T20:28:46.712186Z"
    }
   },
   "outputs": [],
   "source": [
    "# Import necessary libraries for modeling\n",
    "from sklearn.linear_model import LogisticRegression\n",
    "from sklearn.ensemble import RandomForestClassifier\n",
    "from sklearn.metrics import accuracy_score, precision_score, recall_score, f1_score"
   ]
  },
  {
   "cell_type": "code",
   "execution_count": 72,
   "id": "c2e53a55",
   "metadata": {
    "ExecuteTime": {
     "end_time": "2023-08-24T20:28:46.805075Z",
     "start_time": "2023-08-24T20:28:46.727497Z"
    }
   },
   "outputs": [],
   "source": [
    "# Build Logistic Regression model\n",
    "logreg_model = LogisticRegression()\n",
    "logreg_model.fit(X_train, y_train)\n",
    "logreg_predictions = logreg_model.predict(X_test)"
   ]
  },
  {
   "cell_type": "code",
   "execution_count": 73,
   "id": "bb6f5648",
   "metadata": {
    "ExecuteTime": {
     "end_time": "2023-08-24T20:28:46.861825Z",
     "start_time": "2023-08-24T20:28:46.807071Z"
    }
   },
   "outputs": [
    {
     "name": "stdout",
     "output_type": "stream",
     "text": [
      "Logistic Regression Performance:\n",
      "Accuracy: 0.50225\n",
      "Precision: 0.4977596204533474\n",
      "Recall: 0.38070758996068943\n",
      "F1-score: 0.4314352618653264\n"
     ]
    }
   ],
   "source": [
    "# Evaluate Logistic Regression model\n",
    "print(\"Logistic Regression Performance:\")\n",
    "print(\"Accuracy:\", accuracy_score(y_test, logreg_predictions))\n",
    "print(\"Precision:\", precision_score(y_test, logreg_predictions))\n",
    "print(\"Recall:\", recall_score(y_test, logreg_predictions))\n",
    "print(\"F1-score:\", f1_score(y_test, logreg_predictions))"
   ]
  },
  {
   "cell_type": "code",
   "execution_count": 74,
   "id": "49667bb7",
   "metadata": {
    "ExecuteTime": {
     "end_time": "2023-08-24T20:29:06.766120Z",
     "start_time": "2023-08-24T20:28:46.862901Z"
    }
   },
   "outputs": [],
   "source": [
    "# Build Random Forest model\n",
    "rf_model = RandomForestClassifier()\n",
    "rf_model.fit(X_train, y_train)\n",
    "rf_predictions = rf_model.predict(X_test)"
   ]
  },
  {
   "cell_type": "code",
   "execution_count": 75,
   "id": "af3de716",
   "metadata": {
    "ExecuteTime": {
     "end_time": "2023-08-24T20:29:06.781290Z",
     "start_time": "2023-08-24T20:29:06.766120Z"
    }
   },
   "outputs": [
    {
     "data": {
      "text/plain": [
       "array([1., 1., 0., ..., 0., 1., 1.])"
      ]
     },
     "execution_count": 75,
     "metadata": {},
     "output_type": "execute_result"
    }
   ],
   "source": [
    "rf_predictions"
   ]
  },
  {
   "cell_type": "code",
   "execution_count": 76,
   "id": "2c491754",
   "metadata": {
    "ExecuteTime": {
     "end_time": "2023-08-24T20:29:06.852179Z",
     "start_time": "2023-08-24T20:29:06.783284Z"
    }
   },
   "outputs": [
    {
     "name": "stdout",
     "output_type": "stream",
     "text": [
      "\n",
      "Random Forest Performance:\n",
      "Accuracy: 0.49735\n",
      "Precision: 0.49308610936517916\n",
      "Recall: 0.47444814030843663\n",
      "F1-score: 0.483587609801202\n"
     ]
    }
   ],
   "source": [
    "# Evaluate Random Forest model\n",
    "print(\"\\nRandom Forest Performance:\")\n",
    "print(\"Accuracy:\", accuracy_score(y_test, rf_predictions))\n",
    "print(\"Precision:\", precision_score(y_test, rf_predictions))\n",
    "print(\"Recall:\", recall_score(y_test, rf_predictions))\n",
    "print(\"F1-score:\", f1_score(y_test, rf_predictions))"
   ]
  },
  {
   "cell_type": "code",
   "execution_count": 77,
   "id": "99494ec2",
   "metadata": {
    "ExecuteTime": {
     "end_time": "2023-08-24T20:29:07.207263Z",
     "start_time": "2023-08-24T20:29:06.854140Z"
    }
   },
   "outputs": [
    {
     "name": "stdout",
     "output_type": "stream",
     "text": [
      "Cross-Validation Scores: [0.5033125 0.496375  0.502875  0.5045625 0.506125 ]\n",
      "Mean CV Accuracy: 0.50265\n"
     ]
    }
   ],
   "source": [
    "from sklearn.model_selection import cross_val_score\n",
    "\n",
    "# Initialize Logistic Regression model\n",
    "logreg_model = LogisticRegression()\n",
    "\n",
    "# Perform k-fold cross-validation\n",
    "num_folds = 5\n",
    "scores = cross_val_score(logreg_model, X_train, y_train, cv=num_folds, scoring='accuracy')\n",
    "\n",
    "# Print cross-validation scores\n",
    "print(\"Cross-Validation Scores:\", scores)\n",
    "print(\"Mean CV Accuracy:\", scores.mean())"
   ]
  }
 ],
 "metadata": {
  "kernelspec": {
   "display_name": "Python 3 (ipykernel)",
   "language": "python",
   "name": "python3"
  },
  "language_info": {
   "codemirror_mode": {
    "name": "ipython",
    "version": 3
   },
   "file_extension": ".py",
   "mimetype": "text/x-python",
   "name": "python",
   "nbconvert_exporter": "python",
   "pygments_lexer": "ipython3",
   "version": "3.9.12"
  }
 },
 "nbformat": 4,
 "nbformat_minor": 5
}
